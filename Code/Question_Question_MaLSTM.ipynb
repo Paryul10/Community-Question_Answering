{
  "nbformat": 4,
  "nbformat_minor": 0,
  "metadata": {
    "colab": {
      "name": "Question-Question MaLSTM.ipynb",
      "provenance": [],
      "collapsed_sections": []
    },
    "kernelspec": {
      "name": "python3",
      "display_name": "Python 3"
    },
    "accelerator": "GPU"
  },
  "cells": [
    {
      "cell_type": "code",
      "metadata": {
        "id": "Y-eTMk_CbtN9",
        "colab_type": "code",
        "colab": {}
      },
      "source": [
        "from time import time\n",
        "import pandas as pd\n",
        "import numpy as np\n",
        "from gensim.models import KeyedVectors\n",
        "import re\n",
        "from nltk.corpus import stopwords\n",
        "from sklearn.model_selection import train_test_split\n",
        "import matplotlib.pyplot as plt\n",
        "import seaborn as sns\n",
        "\n",
        "import itertools\n",
        "import datetime\n",
        "\n",
        "from tensorflow import keras\n",
        "from keras.preprocessing.sequence import pad_sequences\n",
        "from keras.models import Model, model_from_json\n",
        "from keras.layers import Input, Embedding, LSTM, Lambda, Softmax, Dense, Concatenate\n",
        "import keras.backend as K\n",
        "from keras.optimizers import Adadelta, Adam\n",
        "from keras.callbacks import ModelCheckpoint"
      ],
      "execution_count": 0,
      "outputs": []
    },
    {
      "cell_type": "code",
      "metadata": {
        "id": "h8MrLIMqijt9",
        "colab_type": "code",
        "outputId": "6e2336da-49ba-4c5e-9a25-d87467d0a823",
        "colab": {
          "base_uri": "https://localhost:8080/",
          "height": 34
        }
      },
      "source": [
        "from google.colab import drive\n",
        "drive.mount('/content/drive')\n",
        "TRAIN_CSV = '/content/drive/My Drive/Sem 3-2/NLA/Project/train.csv'\n",
        "TEST_CSV = '/content/drive/My Drive/Sem 3-2/NLA/Project/test.csv'\n",
        "MODEL_SAVING_DIR = '/content/drive/My Drive/Sem 3-2/NLA/Project/Models/'\n",
        "\n",
        "# Make changes here for embedding and model name\n",
        "MODEL_NAME = 'lstm_glove_manhattan'\n",
        "EMBEDDING_TYPE = 'glove' # w2v, glove\n",
        "\n",
        "if EMBEDDING_TYPE == 'w2v':\n",
        "  EMBEDDING_FILE = '/content/drive/My Drive/Sem 3-2/NLA/Project/GoogleNews-vectors-negative300.bin.gz'\n",
        "elif EMBEDDING_TYPE == 'glove':\n",
        "  EMBEDDING_FILE = '/content/drive/My Drive/Sem 3-2/NLA/Project/glove/glove.6B.100d.txt'"
      ],
      "execution_count": 25,
      "outputs": [
        {
          "output_type": "stream",
          "text": [
            "Drive already mounted at /content/drive; to attempt to forcibly remount, call drive.mount(\"/content/drive\", force_remount=True).\n"
          ],
          "name": "stdout"
        }
      ]
    },
    {
      "cell_type": "code",
      "metadata": {
        "id": "_6FctGEE3Uz4",
        "colab_type": "code",
        "outputId": "341d9dba-db5d-49d7-9871-3abfcb7b0d76",
        "colab": {
          "base_uri": "https://localhost:8080/",
          "height": 69
        }
      },
      "source": [
        "import nltk\n",
        "nltk.download('stopwords')"
      ],
      "execution_count": 26,
      "outputs": [
        {
          "output_type": "stream",
          "text": [
            "[nltk_data] Downloading package stopwords to /root/nltk_data...\n",
            "[nltk_data]   Package stopwords is already up-to-date!\n"
          ],
          "name": "stdout"
        },
        {
          "output_type": "execute_result",
          "data": {
            "text/plain": [
              "True"
            ]
          },
          "metadata": {
            "tags": []
          },
          "execution_count": 26
        }
      ]
    },
    {
      "cell_type": "code",
      "metadata": {
        "id": "0Vk6eIIUlwNh",
        "colab_type": "code",
        "colab": {}
      },
      "source": [
        "# Load training and test set\n",
        "train_df = pd.read_csv(TRAIN_CSV)\n",
        "\n",
        "stops = set(stopwords.words('english'))\n",
        "\n",
        "def text_to_word_list(text):\n",
        "    ''' Pre process and convert texts to a list of words '''\n",
        "    text = str(text)\n",
        "    text = text.lower()\n",
        "\n",
        "    # Clean the text\n",
        "    text = re.sub(r\"[^A-Za-z0-9^,!.\\/'+-=]\", \" \", text)\n",
        "    text = re.sub(r\"what's\", \"what is \", text)\n",
        "    text = re.sub(r\"\\'s\", \" \", text)\n",
        "    text = re.sub(r\"\\'ve\", \" have \", text)\n",
        "    text = re.sub(r\"can't\", \"cannot \", text)\n",
        "    text = re.sub(r\"n't\", \" not \", text)\n",
        "    text = re.sub(r\"i'm\", \"i am \", text)\n",
        "    text = re.sub(r\"\\'re\", \" are \", text)\n",
        "    text = re.sub(r\"\\'d\", \" would \", text)\n",
        "    text = re.sub(r\"\\'ll\", \" will \", text)\n",
        "    text = re.sub(r\",\", \" \", text)\n",
        "    text = re.sub(r\"\\.\", \" \", text)\n",
        "    text = re.sub(r\"!\", \" ! \", text)\n",
        "    text = re.sub(r\"\\/\", \" \", text)\n",
        "    text = re.sub(r\"\\^\", \" ^ \", text)\n",
        "    text = re.sub(r\"\\+\", \" + \", text)\n",
        "    text = re.sub(r\"\\-\", \" - \", text)\n",
        "    text = re.sub(r\"\\=\", \" = \", text)\n",
        "    text = re.sub(r\"'\", \" \", text)\n",
        "    text = re.sub(r\"(\\d+)(k)\", r\"\\g<1>000\", text)\n",
        "    text = re.sub(r\":\", \" : \", text)\n",
        "    text = re.sub(r\" e g \", \" eg \", text)\n",
        "    text = re.sub(r\" b g \", \" bg \", text)\n",
        "    text = re.sub(r\" u s \", \" american \", text)\n",
        "    text = re.sub(r\"\\0s\", \"0\", text)\n",
        "    text = re.sub(r\" 9 11 \", \"911\", text)\n",
        "    text = re.sub(r\"e - mail\", \"email\", text)\n",
        "    text = re.sub(r\"j k\", \"jk\", text)\n",
        "    text = re.sub(r\"\\s{2,}\", \" \", text)\n",
        "\n",
        "    text = text.split()\n",
        "\n",
        "    return text\n",
        "\n",
        "# Prepare embedding\n",
        "vocabulary = dict()\n",
        "inverse_vocabulary = ['<unk>']  # '<unk>' will never be used, it is only a placeholder for the [0, 0, ....0] embedding\n",
        "\n",
        "if EMBEDDING_TYPE == 'w2v':\n",
        "  word2vec = KeyedVectors.load_word2vec_format(EMBEDDING_FILE, binary=True)\n",
        "\n",
        "elif EMBEDDING_TYPE == 'glove':\n",
        "  embeddings_index = dict()\n",
        "  glove_vocab = []\n",
        "  f = open(EMBEDDING_FILE)  # glove.6B.100d.txt\n",
        "  for line in f:\n",
        "    values = line.split()\n",
        "    word = values[0]\n",
        "    glove_vocab.append(word)\n",
        "    coefs = np.asarray(values[1:], dtype='float32')\n",
        "    embeddings_index[word] = coefs\n",
        "  f.close()\n",
        "\n",
        "questions_cols = ['question1', 'question2']\n",
        "\n",
        "# Iterate over the questions only of both training and test datasets\n",
        "for index, row in train_df.iterrows():\n",
        "\n",
        "    for question in questions_cols:\n",
        "\n",
        "        q2n = []  # q2n -> question numbers representation\n",
        "        for word in text_to_word_list(row[question]):\n",
        "\n",
        "            # Stop word removal\n",
        "            if EMBEDDING_TYPE == 'w2v':\n",
        "              if word in stops and word not in word2vec.vocab:\n",
        "                  continue\n",
        "                  \n",
        "            elif EMBEDDING_TYPE == 'glove':\n",
        "              if word in stops and word not in glove_vocab:\n",
        "                continue\n",
        "\n",
        "            if word not in vocabulary:\n",
        "                vocabulary[word] = len(inverse_vocabulary)\n",
        "                q2n.append(len(inverse_vocabulary))\n",
        "                inverse_vocabulary.append(word)\n",
        "            else:\n",
        "                q2n.append(vocabulary[word])\n",
        "\n",
        "        # Replace questions as word to question as number representation\n",
        "        train_df.at[index, question] = q2n\n",
        "\n",
        "if EMBEDDING_TYPE == 'w2v':            \n",
        "  embedding_dim = 300\n",
        "  embeddings = 1 * np.random.randn(len(vocabulary) + 1, embedding_dim)  # This will be the embedding matrix\n",
        "  embeddings[0] = 0  # So that the padding will be ignored\n",
        "\n",
        "  # Build the embedding matrix\n",
        "  for word, index in vocabulary.items():\n",
        "      if word in word2vec.vocab:\n",
        "          embeddings[index] = word2vec.word_vec(word)\n",
        "  del word2vec\n",
        "\n",
        "elif EMBEDDING_TYPE == 'glove':\n",
        "  embedding_dim = 100\n",
        "  vocabulary_size = len(vocabulary) + 1\n",
        "  embeddings = np.zeros((vocabulary_size, 100))\n",
        "  for word, index in vocabulary.items():\n",
        "    embedding_vector = embeddings_index.get(word)\n",
        "    if embedding_vector is not None:\n",
        "      embeddings[index] = embedding_vector"
      ],
      "execution_count": 0,
      "outputs": []
    },
    {
      "cell_type": "code",
      "metadata": {
        "id": "1_ZIE6zEl1Mc",
        "colab_type": "code",
        "colab": {}
      },
      "source": [
        "max_seq_length = max(train_df.question1.map(lambda x: len(x)).max(),\n",
        "                     train_df.question2.map(lambda x: len(x)).max())\n",
        "\n",
        "# Split to train validation test\n",
        "test_size = 40000\n",
        "validation_size = 40000\n",
        "training_size = len(train_df) - validation_size - test_size\n",
        "\n",
        "X = train_df[questions_cols]\n",
        "Y = train_df['is_duplicate']\n",
        "\n",
        "X_train, X_test, Y_train, Y_test = train_test_split(X, Y, test_size=test_size)\n",
        "X_train, X_validation, Y_train, Y_validation = train_test_split(X_train, Y_train, test_size=validation_size)\n",
        "\n",
        "# Split to dicts\n",
        "X_train = {'left': X_train.question1, 'right': X_train.question2}\n",
        "X_validation = {'left': X_validation.question1, 'right': X_validation.question2}\n",
        "X_test = {'left': X_test.question1, 'right': X_test.question2}\n",
        "\n",
        "# Convert labels to their numpy representations\n",
        "Y_train = Y_train.values\n",
        "Y_validation = Y_validation.values\n",
        "Y_test = Y_test.values\n",
        "\n",
        "# Zero padding\n",
        "for dataset, side in itertools.product([X_train, X_validation, X_test], ['left', 'right']):\n",
        "    dataset[side] = pad_sequences(dataset[side], maxlen=max_seq_length)\n",
        "\n",
        "# Make sure everything is ok\n",
        "assert X_train['left'].shape == X_train['right'].shape\n",
        "assert len(X_train['left']) == len(Y_train)"
      ],
      "execution_count": 0,
      "outputs": []
    },
    {
      "cell_type": "code",
      "metadata": {
        "id": "l4lwWwU305ck",
        "colab_type": "code",
        "colab": {}
      },
      "source": [
        "def recall(y_true, y_pred):\n",
        "    true_positives = K.sum(K.round(K.clip(y_true * y_pred, 0, 1)))\n",
        "    possible_positives = K.sum(K.round(K.clip(y_true, 0, 1)))\n",
        "    recall = true_positives / (possible_positives + K.epsilon())\n",
        "    return recall\n",
        "\n",
        "def precision(y_true, y_pred):\n",
        "    true_positives = K.sum(K.round(K.clip(y_true * y_pred, 0, 1)))\n",
        "    predicted_positives = K.sum(K.round(K.clip(y_pred, 0, 1)))\n",
        "    precision = true_positives / (predicted_positives + K.epsilon())\n",
        "    return precision\n",
        "\n",
        "def f1(y_true, y_pred):\n",
        "    prec = precision(y_true, y_pred)\n",
        "    rec = recall(y_true, y_pred)\n",
        "    return 2*((prec*rec)/(prec + rec + K.epsilon()))"
      ],
      "execution_count": 0,
      "outputs": []
    },
    {
      "cell_type": "code",
      "metadata": {
        "id": "fgrR9Pi0l3rS",
        "colab_type": "code",
        "outputId": "2d882077-87cc-4229-fc61-d3f02ac4839a",
        "colab": {
          "base_uri": "https://localhost:8080/",
          "height": 801
        }
      },
      "source": [
        "# Model variables\n",
        "n_hidden = 64\n",
        "gradient_clipping_norm = 1.25\n",
        "batch_size = 2048\n",
        "n_epoch = 20\n",
        "\n",
        "def exponent_neg_manhattan_distance(left, right):\n",
        "    ''' Helper function for the similarity estimate of the LSTMs outputs'''\n",
        "    return K.exp(-K.sum(K.abs(left-right), axis=1, keepdims=True))\n",
        "\n",
        "# The visible layer\n",
        "left_input = Input(shape=(max_seq_length,), dtype='int32')\n",
        "right_input = Input(shape=(max_seq_length,), dtype='int32')\n",
        "\n",
        "embedding_layer = Embedding(len(embeddings), embedding_dim, weights=[embeddings], input_length=max_seq_length, trainable=False)\n",
        "\n",
        "# Embedded version of the inputs\n",
        "encoded_left = embedding_layer(left_input)\n",
        "encoded_right = embedding_layer(right_input)\n",
        "\n",
        "# Since this is a siamese network, both sides share the same LSTM\n",
        "shared_lstm = LSTM(n_hidden)\n",
        "\n",
        "left_output = shared_lstm(encoded_left)\n",
        "right_output = shared_lstm(encoded_right)\n",
        "\n",
        "# Calculates the distance as defined by the MaLSTM model\n",
        "# Distance computation varies in different models\n",
        "malstm_distance = Lambda(function=lambda x: exponent_neg_manhattan_distance(x[0], x[1]),output_shape=lambda x: (x[0][0], 1))([left_output, right_output])\n",
        "\n",
        "malstm = Model([left_input, right_input], [malstm_distance])\n",
        "\n",
        "# Adam optimizer, with learning rate\n",
        "optimizer = Adam(learning_rate=0.001)\n",
        "\n",
        "malstm.compile(loss='mean_squared_error', optimizer=optimizer, metrics=['accuracy', recall, precision, f1])\n",
        "\n",
        "training_start_time = time()\n",
        "\n",
        "malstm_trained = malstm.fit([X_train['left'], X_train['right']], Y_train, batch_size=batch_size, nb_epoch=n_epoch,\n",
        "                            validation_data=([X_validation['left'], X_validation['right']], Y_validation))\n",
        "\n",
        "print(\"Training time finished.\\n{} epochs in {}\".format(n_epoch, datetime.timedelta(seconds=time()-training_start_time)))"
      ],
      "execution_count": 30,
      "outputs": [
        {
          "output_type": "stream",
          "text": [
            "/usr/local/lib/python3.6/dist-packages/ipykernel_launcher.py:40: UserWarning: The `nb_epoch` argument in `fit` has been renamed `epochs`.\n"
          ],
          "name": "stderr"
        },
        {
          "output_type": "stream",
          "text": [
            "Train on 324290 samples, validate on 40000 samples\n",
            "Epoch 1/20\n",
            "324290/324290 [==============================] - 230s 710us/step - loss: 0.2132 - accuracy: 0.6984 - recall: 0.4004 - precision: 0.6421 - f1: 0.4842 - val_loss: 0.1780 - val_accuracy: 0.7326 - val_recall: 0.4912 - val_precision: 0.6937 - val_f1: 0.5750\n",
            "Epoch 2/20\n",
            "324290/324290 [==============================] - 228s 702us/step - loss: 0.1720 - accuracy: 0.7434 - recall: 0.5270 - precision: 0.7042 - f1: 0.6025 - val_loss: 0.1669 - val_accuracy: 0.7557 - val_recall: 0.5629 - val_precision: 0.7142 - val_f1: 0.6294\n",
            "Epoch 3/20\n",
            "324290/324290 [==============================] - 225s 694us/step - loss: 0.1640 - accuracy: 0.7595 - recall: 0.5703 - precision: 0.7208 - f1: 0.6364 - val_loss: 0.1614 - val_accuracy: 0.7665 - val_recall: 0.5915 - val_precision: 0.7247 - val_f1: 0.6512\n",
            "Epoch 4/20\n",
            "324290/324290 [==============================] - 225s 695us/step - loss: 0.1590 - accuracy: 0.7699 - recall: 0.5959 - precision: 0.7315 - f1: 0.6564 - val_loss: 0.1576 - val_accuracy: 0.7742 - val_recall: 0.6186 - val_precision: 0.7282 - val_f1: 0.6688\n",
            "Epoch 5/20\n",
            "324290/324290 [==============================] - 227s 700us/step - loss: 0.1553 - accuracy: 0.7770 - recall: 0.6139 - precision: 0.7388 - f1: 0.6703 - val_loss: 0.1542 - val_accuracy: 0.7788 - val_recall: 0.6216 - val_precision: 0.7372 - val_f1: 0.6744\n",
            "Epoch 6/20\n",
            "324290/324290 [==============================] - 225s 695us/step - loss: 0.1523 - accuracy: 0.7828 - recall: 0.6266 - precision: 0.7450 - f1: 0.6803 - val_loss: 0.1515 - val_accuracy: 0.7844 - val_recall: 0.6205 - val_precision: 0.7518 - val_f1: 0.6797\n",
            "Epoch 7/20\n",
            "324290/324290 [==============================] - 229s 707us/step - loss: 0.1500 - accuracy: 0.7874 - recall: 0.6380 - precision: 0.7499 - f1: 0.6888 - val_loss: 0.1497 - val_accuracy: 0.7885 - val_recall: 0.6379 - val_precision: 0.7514 - val_f1: 0.6899\n",
            "Epoch 8/20\n",
            "324290/324290 [==============================] - 228s 703us/step - loss: 0.1480 - accuracy: 0.7906 - recall: 0.6457 - precision: 0.7527 - f1: 0.6947 - val_loss: 0.1484 - val_accuracy: 0.7903 - val_recall: 0.6343 - val_precision: 0.7581 - val_f1: 0.6906\n",
            "Epoch 9/20\n",
            "324290/324290 [==============================] - 228s 704us/step - loss: 0.1463 - accuracy: 0.7940 - recall: 0.6537 - precision: 0.7562 - f1: 0.7008 - val_loss: 0.1470 - val_accuracy: 0.7937 - val_recall: 0.6610 - val_precision: 0.7503 - val_f1: 0.7027\n",
            "Epoch 10/20\n",
            "324290/324290 [==============================] - 224s 691us/step - loss: 0.1448 - accuracy: 0.7964 - recall: 0.6579 - precision: 0.7594 - f1: 0.7046 - val_loss: 0.1460 - val_accuracy: 0.7949 - val_recall: 0.6663 - val_precision: 0.7496 - val_f1: 0.7054\n",
            "Epoch 11/20\n",
            "324290/324290 [==============================] - 222s 685us/step - loss: 0.1436 - accuracy: 0.7986 - recall: 0.6631 - precision: 0.7616 - f1: 0.7083 - val_loss: 0.1452 - val_accuracy: 0.7994 - val_recall: 0.6871 - val_precision: 0.7487 - val_f1: 0.7164\n",
            "Epoch 12/20\n",
            "324290/324290 [==============================] - 222s 686us/step - loss: 0.1422 - accuracy: 0.8010 - recall: 0.6676 - precision: 0.7642 - f1: 0.7124 - val_loss: 0.1442 - val_accuracy: 0.8003 - val_recall: 0.6792 - val_precision: 0.7546 - val_f1: 0.7148\n",
            "Epoch 13/20\n",
            "324290/324290 [==============================] - 223s 689us/step - loss: 0.1410 - accuracy: 0.8028 - recall: 0.6718 - precision: 0.7662 - f1: 0.7155 - val_loss: 0.1430 - val_accuracy: 0.8008 - val_recall: 0.6712 - val_precision: 0.7608 - val_f1: 0.7131\n",
            "Epoch 14/20\n",
            "324290/324290 [==============================] - 225s 695us/step - loss: 0.1401 - accuracy: 0.8038 - recall: 0.6729 - precision: 0.7678 - f1: 0.7167 - val_loss: 0.1425 - val_accuracy: 0.7998 - val_recall: 0.6502 - val_precision: 0.7711 - val_f1: 0.7054\n",
            "Epoch 15/20\n",
            "324290/324290 [==============================] - 222s 686us/step - loss: 0.1390 - accuracy: 0.8059 - recall: 0.6766 - precision: 0.7702 - f1: 0.7201 - val_loss: 0.1418 - val_accuracy: 0.8009 - val_recall: 0.6471 - val_precision: 0.7759 - val_f1: 0.7055\n",
            "Epoch 16/20\n",
            "324290/324290 [==============================] - 223s 687us/step - loss: 0.1383 - accuracy: 0.8072 - recall: 0.6796 - precision: 0.7720 - f1: 0.7224 - val_loss: 0.1411 - val_accuracy: 0.8055 - val_recall: 0.6845 - val_precision: 0.7633 - val_f1: 0.7216\n",
            "Epoch 17/20\n",
            "324290/324290 [==============================] - 224s 689us/step - loss: 0.1374 - accuracy: 0.8086 - recall: 0.6817 - precision: 0.7734 - f1: 0.7243 - val_loss: 0.1406 - val_accuracy: 0.8029 - val_recall: 0.6495 - val_precision: 0.7787 - val_f1: 0.7081\n",
            "Epoch 18/20\n",
            "324290/324290 [==============================] - 224s 691us/step - loss: 0.1366 - accuracy: 0.8103 - recall: 0.6849 - precision: 0.7758 - f1: 0.7271 - val_loss: 0.1398 - val_accuracy: 0.8059 - val_recall: 0.6853 - val_precision: 0.7640 - val_f1: 0.7224\n",
            "Epoch 19/20\n",
            "324290/324290 [==============================] - 222s 684us/step - loss: 0.1359 - accuracy: 0.8115 - recall: 0.6874 - precision: 0.7771 - f1: 0.7292 - val_loss: 0.1394 - val_accuracy: 0.8073 - val_recall: 0.6938 - val_precision: 0.7622 - val_f1: 0.7262\n",
            "Epoch 20/20\n",
            "324290/324290 [==============================] - 222s 686us/step - loss: 0.1351 - accuracy: 0.8128 - recall: 0.6892 - precision: 0.7791 - f1: 0.7310 - val_loss: 0.1390 - val_accuracy: 0.8069 - val_recall: 0.6718 - val_precision: 0.7745 - val_f1: 0.7194\n",
            "Training time finished.\n",
            "20 epochs in 1:15:02.234231\n"
          ],
          "name": "stdout"
        }
      ]
    },
    {
      "cell_type": "code",
      "metadata": {
        "id": "46hMuYjL2rDI",
        "colab_type": "code",
        "colab": {}
      },
      "source": [
        "# serialize model to JSON\n",
        "model_json = malstm.to_json()\n",
        "with open(MODEL_SAVING_DIR + MODEL_NAME + \".json\", \"w\") as json_file:\n",
        "    json_file.write(model_json)\n",
        "\n",
        "# serialize weights to HDF5\n",
        "malstm.save_weights(MODEL_SAVING_DIR + MODEL_NAME + \".h5\")"
      ],
      "execution_count": 0,
      "outputs": []
    },
    {
      "cell_type": "code",
      "metadata": {
        "id": "y5Ias4_YlwZy",
        "colab_type": "code",
        "outputId": "df43a9e3-57cb-4e0a-9c87-f476a5a06ed2",
        "colab": {
          "base_uri": "https://localhost:8080/",
          "height": 300
        }
      },
      "source": [
        "loss, acc, rec, prec, f1 = malstm.evaluate([X_test['left'], X_test['right']], Y_test)\n",
        "print(\"Loss =\", loss, \"Accuracy =\", acc, \"Recall =\", rec, \"Precision =\", prec, \"F1 =\", f1)\n",
        "\n",
        "from sklearn.metrics import confusion_matrix\n",
        "import seaborn as sn\n",
        "\n",
        "pred = malstm.predict([X_test['left'], X_test['right']])\n",
        "cm = confusion_matrix(Y_test, pred.round())\n",
        "cm_img = sn.heatmap(cm, annot=True)\n",
        "\n",
        "figure = cm_img.get_figure()    \n",
        "figure.savefig(MODEL_SAVING_DIR + MODEL_NAME + '.png', dpi=400)"
      ],
      "execution_count": 32,
      "outputs": [
        {
          "output_type": "stream",
          "text": [
            "40000/40000 [==============================] - 214s 5ms/step\n",
            "Loss = 0.13918368144631385 Accuracy = 0.8045750260353088 Recall = 0.6704756617546082 Precision = 0.7667705416679382 F1 = 0.7055104970932007\n"
          ],
          "name": "stdout"
        },
        {
          "output_type": "display_data",
          "data": {
            "image/png": "[encoded data removed]",
            "text/plain": [
              "<Figure size 432x288 with 2 Axes>"
            ]
          },
          "metadata": {
            "tags": [],
            "needs_background": "light"
          }
        }
      ]
    },
    {
      "cell_type": "code",
      "metadata": {
        "id": "ShzPX6Nw3O8g",
        "colab_type": "code",
        "colab": {}
      },
      "source": [
        "# load json and create model\n",
        "json_file = open(MODEL_SAVING_DIR + MODEL_NAME + \".json\", 'rb')\n",
        "loaded_model_json = json_file.read()\n",
        "json_file.close()\n",
        "malstm = model_from_json(loaded_model_json)\n",
        "\n",
        "# load weights into new model\n",
        "malstm.load_weights(MODEL_SAVING_DIR + MODEL_NAME + \".h5\")\n",
        "optimizer = Adam(learning_rate=0.001)\n",
        "malstm.compile(loss='mean_squared_error', optimizer=optimizer, metrics=['accuracy', recall, precision, f1])\n",
        "\n",
        "loss, acc, rec, prec, f1 = malstm.evaluate([X_test['left'], X_test['right']], Y_test)\n",
        "print(\"Loss =\", loss, \"Accuracy =\", acc, \"Recall =\", rec, \"Precision =\", prec, \"F1 =\", f1)\n",
        "\n",
        "pred = malstm.predict([X_test['left'], X_test['right']])\n",
        "cm = confusion_matrix(Y_test, pred.round())\n",
        "sn.heatmap(cm, annot=True)"
      ],
      "execution_count": 0,
      "outputs": []
    },
    {
      "cell_type": "code",
      "metadata": {
        "id": "iYNA0BEQl6Vh",
        "colab_type": "code",
        "colab": {}
      },
      "source": [
        "# Plot accuracy\n",
        "plt.plot(malstm_trained.history['accuracy'])\n",
        "plt.plot(malstm_trained.history['val_accuracy'])\n",
        "plt.title('Model Accuracy')\n",
        "plt.ylabel('Accuracy')\n",
        "plt.xlabel('Epoch')\n",
        "plt.legend(['Train', 'Validation'], loc='upper left')\n",
        "plt.show()\n",
        "\n",
        "# Plot loss\n",
        "plt.plot(malstm_trained.history['loss'])\n",
        "plt.plot(malstm_trained.history['val_loss'])\n",
        "plt.title('Model Loss')\n",
        "plt.ylabel('Loss')\n",
        "plt.xlabel('Epoch')\n",
        "plt.legend(['Train', 'Validation'], loc='upper right')\n",
        "plt.show()\n"
      ],
      "execution_count": 0,
      "outputs": []
    },
    {
      "cell_type": "code",
      "metadata": {
        "id": "tAr5PXuR9Mj3",
        "colab_type": "code",
        "colab": {}
      },
      "source": [
        ""
      ],
      "execution_count": 0,
      "outputs": []
    }
  ]
}